{
 "cells": [
  {
   "cell_type": "markdown",
   "metadata": {},
   "source": [
    "This is the group work by Sun Hee Park, Manling Yang"
   ]
  },
  {
   "cell_type": "markdown",
   "metadata": {},
   "source": [
    "# Introduction\n"
   ]
  },
  {
   "cell_type": "markdown",
   "metadata": {},
   "source": [
    "#### Bike Sharing service\n",
    "Today, there are many ride-sharing companies that offer users to share car rides, or ride electric scooters or bikes. These companies are very popular, and Uber and Lyft are even called \"unicorns,\" which are startup companies valued at over $1 billion. Lime or Birds, the electric scooter-sharing startup companies, are also popular in San Francisco, Chicago and even in Paris. However, bike sharing is the most worthy of notice to be analyzed now and even for the future. It is because people face practical and realistic problems when sharing and cars and electric scooters which do not exist when people share bikes."
   ]
  },
  {
   "cell_type": "markdown",
   "metadata": {},
   "source": [
    "  For example, with car sharing, people have to get a driver's license. They also have to have car insurance and they have to pay extra costs for gas or tiny scratches that might be occur while driving. Regarding electric scooters, safety is considered to be an issue. In California, Electric Scooter Helmet Laws took effect in 2019. However, it is hard to bring a helmet to ride an electric scooter because people usually take a scooter when they go shorter distances than when they go with a car or a bike."
   ]
  },
  {
   "cell_type": "markdown",
   "metadata": {},
   "source": [
    "A bike can solve these problems. People do not have to have a car insurance or a driver's license. A bike is also safer than an electric scooter. According to the Washington Post, two Los Angeles emergency departments, more people were injured while riding standing electric scooters than by riding bicycles or traveling on foot, according to the results of a groundbreaking study."
   ]
  },
  {
   "cell_type": "markdown",
   "metadata": {},
   "source": [
    "The Washington Post also showed that the medical journal JAMA Network Open mentioned “The Riders share roads with fast-moving vehicular traffic but appear to underestimate hazards; we found that 94.3% of observed riders in our community were not wearing a helmet,” the study said of scooter users. “While riders of electric scooters in California are required to be at least 16 years old by state law and 18 years old by company rental agreements, we found that 10.8% of electric scooter injuries were in patients younger than 18 years.\" The study added, Although California law required helmet use while operating electric scooters during the entire study period, only 4.4% of injured scooter riders were documented to be wearing a helmet.\""
   ]
  },
  {
   "cell_type": "markdown",
   "metadata": {},
   "source": [
    "# Research Question:"
   ]
  },
  {
   "cell_type": "markdown",
   "metadata": {},
   "source": [
    "Along with increasing number of Bike-Sharing users, companies want to analyze their customer's data. They want to conduct marketing based on users who are mostly using the service. We expected that the companies assume main factors as 'time', 'age', and 'gender' for analyzing their data.\n"
   ]
  },
  {
   "cell_type": "markdown",
   "metadata": {},
   "source": [
    "In addition, we are also going to compare popularity in using this service in two cities - Chicago and New York. Thus, the questions that we take into account are:\n",
    "1. When (specific time) do people mostly use bike-sharing service?\n",
    "2. Which age range of is mostly using bike-sharing service?\n",
    "3. Which gender is the main users in both city?\n",
    "4. Which city is more popular to use the bike sharing services?"
   ]
  },
  {
   "cell_type": "markdown",
   "metadata": {},
   "source": [
    "# Data Analytics Workflow\n",
    "\n",
    "1. The first data set('Chicago-Divvy-2016') is a CSV from Kaggle. \n",
    "(https://www.kaggle.com/samratp/bikeshare-analysis#Chicago-Divvy-2016.csv)\n",
    "2. The second data ('NYC-BikeShare-2015-2017-combined') is a SQL file.\n",
    "\n",
    "#### type one sources: read CSV file\n",
    "1. define the csv, numpy, panda, seaborn, and matplotlib first\n",
    "2. remove the unmeaningful columns from the dataset\n",
    "3. print the results\n",
    "\n",
    "#### The attribuates meaning of data sources one:\n",
    "1. trip_id: the id of the trip\n",
    "2. starttime: Time to star to use bike sharing services\n",
    "3. stoptime: Time to stop to use bike sharing services\n",
    "4. bikeid: the id of bike\n",
    "5. tripduration: time in sec\n",
    "6. from_station_id: The id of the bike station for people star to use bike sahring services\n",
    "7. from_station_name: The name of the bike station for people star to use bike sahring services\n",
    "8. to_station_id: The id of the bike station for people stop to use bike sahring services\n",
    "9. to_station_name: The name of the bike station for people stop to use bike sahring services\n",
    "10. usertype:the type of bike sharing's user\n",
    "11. gender: the gender of bike sharing's user\n",
    "12. birthyear: the birth year of bike sharing's user"
   ]
  },
  {
   "cell_type": "markdown",
   "metadata": {},
   "source": [
    "### type two sources: scraped web page via html file\n",
    "1. read the pathway to load the html\n",
    "2. print the result\n",
    "\n",
    "##### the attribuate of data sources two:\n",
    "1. Trip Duration: unclear (unmeaningful data)\n",
    "2. Start Time: Time to star to use bike sharing services\n",
    "3. Stop Time： Time to stop to use bike sharing services\n",
    "4. Start Station ID: The id of the bike station for people star to use bike sahring services\n",
    "5. Start Station Name: The name of the bike station for people star to use bike sahring services\n",
    "6. Start Station Latitude: The latitude of the bike station for people star to use bike sahring services\n",
    "7. Start Station Longitude: The longtitude of the bike station for people star to use bike sahring services\n",
    "8. End Station ID: The id of the bike station for people stop to use bike sahring services\n",
    "9. End Station Name: The name of the bike station for people stop to use bike sahring services\n",
    "10. End Station Latitude: The latitude of the bike station for people stop to use bike sahring services\n",
    "11. End Station Longitude: The longtitude of the bike station for people stop to use bike sahring services\n",
    "12. Bike ID: The id of the bike\n",
    "13. User Type: the type of bike sharing's user\n",
    "14. Birth Year: the birth year of bike sharing's user\n",
    "15. Gender: the gender of bike sharing's user\n",
    "16. Trip_Duration_in_min: The total minutes from star time and stop time"
   ]
  },
  {
   "cell_type": "markdown",
   "metadata": {},
   "source": [
    "# Approach\n",
    "In this project, we are going to investigate the ride-sharing market first to understand our data well. Then we will start analyzing the data from Kaggle to understand what are considered to be influential factors for the bike-sharing service."
   ]
  },
  {
   "cell_type": "markdown",
   "metadata": {},
   "source": [
    "After the investigation, we are going to cleanse NYC-BikeShare data because it includes data from 2015 and 2017 as well. We are going to use only data from 2016 to compare with Chicago data from 2016. After that, we will also cleanse both data because these data should have the same column names or the same types of attributes to be compared. Then we will store our data as CSV format on github.\n"
   ]
  },
  {
   "cell_type": "markdown",
   "metadata": {},
   "source": [
    "To analyze our data, we would apply a histogram and a box plot to figure out time and age range that the bike-sharing service is mostly used from. After than, we are going to use bar, histogram, scatter, line graphes to figure out the third and the last question."
   ]
  },
  {
   "cell_type": "code",
   "execution_count": 3,
   "metadata": {},
   "outputs": [],
   "source": [
    "import csv \n",
    "import numpy as np\n",
    "import pandas as pd\n",
    "import seaborn as sns\n",
    "import matplotlib.pyplot as plt"
   ]
  },
  {
   "cell_type": "code",
   "execution_count": null,
   "metadata": {},
   "outputs": [],
   "source": []
  },
  {
   "cell_type": "code",
   "execution_count": 7,
   "metadata": {},
   "outputs": [
    {
     "data": {
      "text/html": [
       "<div>\n",
       "<style scoped>\n",
       "    .dataframe tbody tr th:only-of-type {\n",
       "        vertical-align: middle;\n",
       "    }\n",
       "\n",
       "    .dataframe tbody tr th {\n",
       "        vertical-align: top;\n",
       "    }\n",
       "\n",
       "    .dataframe thead th {\n",
       "        text-align: right;\n",
       "    }\n",
       "</style>\n",
       "<table border=\"1\" class=\"dataframe\">\n",
       "  <thead>\n",
       "    <tr style=\"text-align: right;\">\n",
       "      <th></th>\n",
       "      <th>trip_id</th>\n",
       "      <th>starttime</th>\n",
       "      <th>stoptime</th>\n",
       "      <th>bikeid</th>\n",
       "      <th>tripduration</th>\n",
       "      <th>from_station_id</th>\n",
       "      <th>from_station_name</th>\n",
       "      <th>to_station_id</th>\n",
       "      <th>to_station_name</th>\n",
       "      <th>usertype</th>\n",
       "      <th>gender</th>\n",
       "      <th>birthyear</th>\n",
       "    </tr>\n",
       "  </thead>\n",
       "  <tbody>\n",
       "    <tr>\n",
       "      <th>0</th>\n",
       "      <td>9080545</td>\n",
       "      <td>3/31/2016 23:30</td>\n",
       "      <td>3/31/2016 23:46</td>\n",
       "      <td>2295</td>\n",
       "      <td>926</td>\n",
       "      <td>156</td>\n",
       "      <td>Clark St &amp; Wellington Ave</td>\n",
       "      <td>166</td>\n",
       "      <td>Ashland Ave &amp; Wrightwood Ave</td>\n",
       "      <td>Subscriber</td>\n",
       "      <td>Male</td>\n",
       "      <td>1990.0</td>\n",
       "    </tr>\n",
       "    <tr>\n",
       "      <th>1</th>\n",
       "      <td>9080521</td>\n",
       "      <td>3/31/2016 22:59</td>\n",
       "      <td>3/31/2016 23:02</td>\n",
       "      <td>3439</td>\n",
       "      <td>198</td>\n",
       "      <td>259</td>\n",
       "      <td>California Ave &amp; Francis Pl</td>\n",
       "      <td>276</td>\n",
       "      <td>California Ave &amp; North Ave</td>\n",
       "      <td>Subscriber</td>\n",
       "      <td>Male</td>\n",
       "      <td>1974.0</td>\n",
       "    </tr>\n",
       "    <tr>\n",
       "      <th>2</th>\n",
       "      <td>9080479</td>\n",
       "      <td>3/31/2016 22:24</td>\n",
       "      <td>3/31/2016 22:26</td>\n",
       "      <td>4337</td>\n",
       "      <td>124</td>\n",
       "      <td>344</td>\n",
       "      <td>Ravenswood Ave &amp; Lawrence Ave</td>\n",
       "      <td>242</td>\n",
       "      <td>Damen Ave &amp; Leland Ave</td>\n",
       "      <td>Subscriber</td>\n",
       "      <td>Female</td>\n",
       "      <td>1992.0</td>\n",
       "    </tr>\n",
       "    <tr>\n",
       "      <th>3</th>\n",
       "      <td>9080475</td>\n",
       "      <td>3/31/2016 22:22</td>\n",
       "      <td>3/31/2016 22:41</td>\n",
       "      <td>3760</td>\n",
       "      <td>1181</td>\n",
       "      <td>318</td>\n",
       "      <td>Southport Ave &amp; Irving Park Rd</td>\n",
       "      <td>458</td>\n",
       "      <td>Broadway &amp; Thorndale Ave</td>\n",
       "      <td>Subscriber</td>\n",
       "      <td>Female</td>\n",
       "      <td>1979.0</td>\n",
       "    </tr>\n",
       "    <tr>\n",
       "      <th>4</th>\n",
       "      <td>9080443</td>\n",
       "      <td>3/31/2016 22:08</td>\n",
       "      <td>3/31/2016 22:19</td>\n",
       "      <td>1270</td>\n",
       "      <td>656</td>\n",
       "      <td>345</td>\n",
       "      <td>Lake Park Ave &amp; 56th St</td>\n",
       "      <td>426</td>\n",
       "      <td>Ellis Ave &amp; 60th St</td>\n",
       "      <td>Subscriber</td>\n",
       "      <td>Female</td>\n",
       "      <td>1997.0</td>\n",
       "    </tr>\n",
       "    <tr>\n",
       "      <th>...</th>\n",
       "      <td>...</td>\n",
       "      <td>...</td>\n",
       "      <td>...</td>\n",
       "      <td>...</td>\n",
       "      <td>...</td>\n",
       "      <td>...</td>\n",
       "      <td>...</td>\n",
       "      <td>...</td>\n",
       "      <td>...</td>\n",
       "      <td>...</td>\n",
       "      <td>...</td>\n",
       "      <td>...</td>\n",
       "    </tr>\n",
       "    <tr>\n",
       "      <th>72126</th>\n",
       "      <td>12150369</td>\n",
       "      <td>10/01/2016 01:40</td>\n",
       "      <td>10/01/2016 01:43</td>\n",
       "      <td>1651</td>\n",
       "      <td>233</td>\n",
       "      <td>117</td>\n",
       "      <td>Wilton Ave &amp; Belmont Ave</td>\n",
       "      <td>114</td>\n",
       "      <td>Sheffield Ave &amp; Waveland Ave</td>\n",
       "      <td>Subscriber</td>\n",
       "      <td>Male</td>\n",
       "      <td>1971.0</td>\n",
       "    </tr>\n",
       "    <tr>\n",
       "      <th>72127</th>\n",
       "      <td>12150340</td>\n",
       "      <td>10/01/2016 01:21</td>\n",
       "      <td>10/01/2016 01:29</td>\n",
       "      <td>4803</td>\n",
       "      <td>472</td>\n",
       "      <td>123</td>\n",
       "      <td>California Ave &amp; Milwaukee Ave</td>\n",
       "      <td>503</td>\n",
       "      <td>Drake Ave &amp; Fullerton Ave</td>\n",
       "      <td>Subscriber</td>\n",
       "      <td>Female</td>\n",
       "      <td>1991.0</td>\n",
       "    </tr>\n",
       "    <tr>\n",
       "      <th>72128</th>\n",
       "      <td>12150249</td>\n",
       "      <td>10/01/2016 00:35</td>\n",
       "      <td>10/01/2016 00:53</td>\n",
       "      <td>3906</td>\n",
       "      <td>1069</td>\n",
       "      <td>90</td>\n",
       "      <td>Millennium Park</td>\n",
       "      <td>197</td>\n",
       "      <td>Michigan Ave &amp; Madison St</td>\n",
       "      <td>Customer</td>\n",
       "      <td>NaN</td>\n",
       "      <td>NaN</td>\n",
       "    </tr>\n",
       "    <tr>\n",
       "      <th>72129</th>\n",
       "      <td>12150216</td>\n",
       "      <td>10/01/2016 00:19</td>\n",
       "      <td>10/01/2016 00:44</td>\n",
       "      <td>5882</td>\n",
       "      <td>1492</td>\n",
       "      <td>300</td>\n",
       "      <td>Broadway &amp; Barry Ave</td>\n",
       "      <td>300</td>\n",
       "      <td>Broadway &amp; Barry Ave</td>\n",
       "      <td>Subscriber</td>\n",
       "      <td>Male</td>\n",
       "      <td>1993.0</td>\n",
       "    </tr>\n",
       "    <tr>\n",
       "      <th>72130</th>\n",
       "      <td>12150187</td>\n",
       "      <td>10/01/2016 00:09</td>\n",
       "      <td>10/01/2016 00:19</td>\n",
       "      <td>490</td>\n",
       "      <td>624</td>\n",
       "      <td>144</td>\n",
       "      <td>Larrabee St &amp; Webster Ave</td>\n",
       "      <td>152</td>\n",
       "      <td>Lincoln Ave &amp; Diversey Pkwy</td>\n",
       "      <td>Subscriber</td>\n",
       "      <td>Male</td>\n",
       "      <td>1992.0</td>\n",
       "    </tr>\n",
       "  </tbody>\n",
       "</table>\n",
       "<p>72131 rows × 12 columns</p>\n",
       "</div>"
      ],
      "text/plain": [
       "        trip_id         starttime          stoptime  bikeid  tripduration  \\\n",
       "0       9080545   3/31/2016 23:30   3/31/2016 23:46    2295           926   \n",
       "1       9080521   3/31/2016 22:59   3/31/2016 23:02    3439           198   \n",
       "2       9080479   3/31/2016 22:24   3/31/2016 22:26    4337           124   \n",
       "3       9080475   3/31/2016 22:22   3/31/2016 22:41    3760          1181   \n",
       "4       9080443   3/31/2016 22:08   3/31/2016 22:19    1270           656   \n",
       "...         ...               ...               ...     ...           ...   \n",
       "72126  12150369  10/01/2016 01:40  10/01/2016 01:43    1651           233   \n",
       "72127  12150340  10/01/2016 01:21  10/01/2016 01:29    4803           472   \n",
       "72128  12150249  10/01/2016 00:35  10/01/2016 00:53    3906          1069   \n",
       "72129  12150216  10/01/2016 00:19  10/01/2016 00:44    5882          1492   \n",
       "72130  12150187  10/01/2016 00:09  10/01/2016 00:19     490           624   \n",
       "\n",
       "       from_station_id               from_station_name  to_station_id  \\\n",
       "0                  156       Clark St & Wellington Ave            166   \n",
       "1                  259     California Ave & Francis Pl            276   \n",
       "2                  344   Ravenswood Ave & Lawrence Ave            242   \n",
       "3                  318  Southport Ave & Irving Park Rd            458   \n",
       "4                  345         Lake Park Ave & 56th St            426   \n",
       "...                ...                             ...            ...   \n",
       "72126              117        Wilton Ave & Belmont Ave            114   \n",
       "72127              123  California Ave & Milwaukee Ave            503   \n",
       "72128               90                 Millennium Park            197   \n",
       "72129              300            Broadway & Barry Ave            300   \n",
       "72130              144       Larrabee St & Webster Ave            152   \n",
       "\n",
       "                    to_station_name    usertype  gender  birthyear  \n",
       "0      Ashland Ave & Wrightwood Ave  Subscriber    Male     1990.0  \n",
       "1        California Ave & North Ave  Subscriber    Male     1974.0  \n",
       "2            Damen Ave & Leland Ave  Subscriber  Female     1992.0  \n",
       "3          Broadway & Thorndale Ave  Subscriber  Female     1979.0  \n",
       "4               Ellis Ave & 60th St  Subscriber  Female     1997.0  \n",
       "...                             ...         ...     ...        ...  \n",
       "72126  Sheffield Ave & Waveland Ave  Subscriber    Male     1971.0  \n",
       "72127     Drake Ave & Fullerton Ave  Subscriber  Female     1991.0  \n",
       "72128     Michigan Ave & Madison St    Customer     NaN        NaN  \n",
       "72129          Broadway & Barry Ave  Subscriber    Male     1993.0  \n",
       "72130   Lincoln Ave & Diversey Pkwy  Subscriber    Male     1992.0  \n",
       "\n",
       "[72131 rows x 12 columns]"
      ]
     },
     "execution_count": 7,
     "metadata": {},
     "output_type": "execute_result"
    }
   ],
   "source": [
    "# read the data file from  SQL\n",
    "#print the result\n",
    "df1 = pd.read_csv('https://raw.githubusercontent.com/mandy941/final/master/Chicago-Divvy-2016.csv')\n",
    "df1"
   ]
  },
  {
   "cell_type": "code",
   "execution_count": null,
   "metadata": {},
   "outputs": [],
   "source": []
  },
  {
   "cell_type": "markdown",
   "metadata": {},
   "source": [
    "### type two sources: scraped web page via html file\n",
    "1. read the pathway to load the html\n",
    "2. print the result\n",
    "\n",
    "##### the attribuate of data sources two:\n",
    "1. Trip Duration: unclear (unmeaningful data)\n",
    "2. Start Time: Time to star to use bike sharing services\n",
    "3. Stop Time： Time to stop to use bike sharing services\n",
    "4. Start Station ID: The id of the bike station for people star to use bike sahring services\n",
    "5. Start Station Name: The name of the bike station for people star to use bike sahring services\n",
    "6. Start Station Latitude: The latitude of the bike station for people star to use bike sahring services\n",
    "7. Start Station Longitude: The longtitude of the bike station for people star to use bike sahring services\n",
    "8. End Station ID: The id of the bike station for people stop to use bike sahring services\n",
    "9. End Station Name: The name of the bike station for people stop to use bike sahring services\n",
    "10. End Station Latitude: The latitude of the bike station for people stop to use bike sahring services\n",
    "11. End Station Longitude: The longtitude of the bike station for people stop to use bike sahring services\n",
    "12. Bike ID: The id of the bike\n",
    "13. User Type: the type of bike sharing's user\n",
    "14. Birth Year: the birth year of bike sharing's user\n",
    "15. Gender: the gender of bike sharing's user\n",
    "16. Trip_Duration_in_min: The total minutes from star time and stop time"
   ]
  },
  {
   "cell_type": "markdown",
   "metadata": {},
   "source": []
  },
  {
   "cell_type": "code",
   "execution_count": null,
   "metadata": {},
   "outputs": [],
   "source": []
  },
  {
   "cell_type": "code",
   "execution_count": null,
   "metadata": {},
   "outputs": [],
   "source": [
    "# drop the unmeaningful columns for the analysis\n",
    "nyc = df.drop([])"
   ]
  },
  {
   "cell_type": "code",
   "execution_count": null,
   "metadata": {},
   "outputs": [],
   "source": []
  },
  {
   "cell_type": "markdown",
   "metadata": {},
   "source": [
    "According to the analysis of Chicago and New York City, we can know the overall bike-sharing situations and make a comparison analysis for people to know the difference between two cities. First of all, I will analysis the meaningful attributes by statistics summary and graph, including bar chart, histogram, and scatter plot. Then, connect to the analysis of Chicago that Sun did, I will compare the data from two cities to explore the difference of the bike-sharing service between Chicago and NYC.  I hope readers can get the overall bike-sharing information about the users' gender and usage rate."
   ]
  },
  {
   "cell_type": "markdown",
   "metadata": {},
   "source": [
    "\n",
    " The analysis \n",
    "Question:\n",
    "3. Which city is more popular to use the bike sharing services?\n",
    "4. Which gender is the main users in both city?"
   ]
  },
  {
   "cell_type": "code",
   "execution_count": null,
   "metadata": {},
   "outputs": [],
   "source": []
  },
  {
   "cell_type": "code",
   "execution_count": null,
   "metadata": {},
   "outputs": [],
   "source": []
  },
  {
   "cell_type": "code",
   "execution_count": null,
   "metadata": {},
   "outputs": [],
   "source": []
  },
  {
   "cell_type": "code",
   "execution_count": null,
   "metadata": {},
   "outputs": [],
   "source": []
  },
  {
   "cell_type": "code",
   "execution_count": null,
   "metadata": {},
   "outputs": [],
   "source": []
  },
  {
   "cell_type": "markdown",
   "metadata": {},
   "source": []
  },
  {
   "cell_type": "code",
   "execution_count": null,
   "metadata": {},
   "outputs": [],
   "source": []
  },
  {
   "cell_type": "code",
   "execution_count": null,
   "metadata": {},
   "outputs": [],
   "source": []
  },
  {
   "cell_type": "code",
   "execution_count": null,
   "metadata": {},
   "outputs": [],
   "source": []
  },
  {
   "cell_type": "code",
   "execution_count": null,
   "metadata": {},
   "outputs": [],
   "source": []
  },
  {
   "cell_type": "code",
   "execution_count": null,
   "metadata": {},
   "outputs": [],
   "source": []
  },
  {
   "cell_type": "code",
   "execution_count": null,
   "metadata": {},
   "outputs": [],
   "source": []
  },
  {
   "cell_type": "code",
   "execution_count": null,
   "metadata": {},
   "outputs": [],
   "source": []
  },
  {
   "cell_type": "code",
   "execution_count": null,
   "metadata": {},
   "outputs": [],
   "source": []
  },
  {
   "cell_type": "code",
   "execution_count": null,
   "metadata": {},
   "outputs": [],
   "source": []
  },
  {
   "cell_type": "code",
   "execution_count": null,
   "metadata": {},
   "outputs": [],
   "source": []
  },
  {
   "cell_type": "code",
   "execution_count": null,
   "metadata": {},
   "outputs": [],
   "source": []
  },
  {
   "cell_type": "code",
   "execution_count": null,
   "metadata": {},
   "outputs": [],
   "source": []
  },
  {
   "cell_type": "code",
   "execution_count": null,
   "metadata": {},
   "outputs": [],
   "source": []
  },
  {
   "cell_type": "code",
   "execution_count": null,
   "metadata": {},
   "outputs": [],
   "source": []
  },
  {
   "cell_type": "code",
   "execution_count": null,
   "metadata": {},
   "outputs": [],
   "source": []
  },
  {
   "cell_type": "code",
   "execution_count": null,
   "metadata": {},
   "outputs": [],
   "source": []
  },
  {
   "cell_type": "code",
   "execution_count": null,
   "metadata": {},
   "outputs": [],
   "source": []
  },
  {
   "cell_type": "code",
   "execution_count": null,
   "metadata": {},
   "outputs": [],
   "source": []
  },
  {
   "cell_type": "code",
   "execution_count": null,
   "metadata": {},
   "outputs": [],
   "source": []
  },
  {
   "cell_type": "code",
   "execution_count": null,
   "metadata": {},
   "outputs": [],
   "source": []
  },
  {
   "cell_type": "code",
   "execution_count": null,
   "metadata": {},
   "outputs": [],
   "source": []
  },
  {
   "cell_type": "code",
   "execution_count": null,
   "metadata": {},
   "outputs": [],
   "source": []
  },
  {
   "cell_type": "code",
   "execution_count": null,
   "metadata": {},
   "outputs": [],
   "source": []
  },
  {
   "cell_type": "code",
   "execution_count": null,
   "metadata": {},
   "outputs": [],
   "source": []
  },
  {
   "cell_type": "code",
   "execution_count": null,
   "metadata": {},
   "outputs": [],
   "source": []
  },
  {
   "cell_type": "markdown",
   "metadata": {},
   "source": [
    "\n",
    "# reference:\n",
    "1. The good analysis sample for bike: https://www.kaggle.com/rajmehra03/bike-sharing-demand-rmsle-0-3194 and https://www.kaggle.com/sohamsave/bike-renting-analysis (we can copy some function from here)\n",
    "2. dataset 1: https://www.kaggle.com/samratp/bikeshare-analysis#Chicago-Divvy-2016.csv\n",
    "3. dataset 2:https://www.kaggle.com/akkithetechie/new-york-city-bike-share-dataset"
   ]
  }
 ],
 "metadata": {
  "kernelspec": {
   "display_name": "Python 3",
   "language": "python",
   "name": "python3"
  },
  "language_info": {
   "codemirror_mode": {
    "name": "ipython",
    "version": 3
   },
   "file_extension": ".py",
   "mimetype": "text/x-python",
   "name": "python",
   "nbconvert_exporter": "python",
   "pygments_lexer": "ipython3",
   "version": "3.7.3"
  }
 },
 "nbformat": 4,
 "nbformat_minor": 2
}
